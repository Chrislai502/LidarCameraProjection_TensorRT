{
 "cells": [
  {
   "cell_type": "code",
   "execution_count": 4,
   "metadata": {},
   "outputs": [
    {
     "name": "stdout",
     "output_type": "stream",
     "text": [
      "The autoreload extension is already loaded. To reload it, use:\n",
      "  %reload_ext autoreload\n",
      "points_camera_coord torch.Size([10, 3])\n",
      "depth torch.Size([10, 1])\n",
      "points_camera_coord torch.Size([10, 3])\n",
      "points_camera_2D_homogeneous torch.Size([10, 3])\n",
      "points_2D torch.Size([10, 2])\n",
      "bbox_mask torch.Size([10])\n",
      "validity torch.Size([10, 1])\n",
      "output torch.Size([10, 4])\n",
      "tensor([[ 0.0000, -0.0848,  0.3224,  0.9994],\n",
      "        [ 0.0000, -1.2219,  0.4722,  1.8016],\n",
      "        [ 0.0000,  0.7785, -1.1547,  1.7291],\n",
      "        [ 0.0000,  0.9501, -0.2883,  1.1028],\n",
      "        [ 0.0000,  0.2675, -0.0086,  0.1897],\n",
      "        [ 0.0000, -0.2784,  0.2951, -0.0094],\n",
      "        [ 0.0000,  0.5926,  1.0114,  0.1665],\n",
      "        [ 0.0000, -0.8681, -0.4390, -0.9704],\n",
      "        [ 0.0000, -0.4866,  2.4564, -0.8007],\n",
      "        [ 0.0000, -0.2155, -1.1667, -0.7350]])\n"
     ]
    }
   ],
   "source": [
    "%load_ext autoreload\n",
    "%autoreload 2\n",
    "\n",
    "import torch\n",
    "\n",
    "from transformer import LiDAR2Camera  # Assuming the LiDAR2Camera class is in 'your_module.py'\n",
    "\n",
    "# Example data (replace these with your actual data)\n",
    "K = torch.tensor([[500, 0, 320], [0, 500, 240], [0, 0, 1]])  # Camera intrinsic matrix\n",
    "R = torch.eye(3)  # Rotation matrix (identity matrix as placeholder)\n",
    "T = torch.zeros(3, 1)  # Translation vector (zero vector as placeholder)\n",
    "width = 640  # Example width\n",
    "height = 480  # Example height\n",
    "lidar_points = torch.randn(10, 3)  # 10 random LiDAR   qpoints\n",
    "bbox = torch.tensor([100, 100, 200, 200])  # Example bounding box [x_min, y_min, x_max, y_max]\n",
    "\n",
    "# Create a LiDAR2Camera instance\n",
    "lidar2camera = LiDAR2Camera(K, R, T, width, height)\n",
    "\n",
    "# Transform the LiDAR points to camera coordinates and check bounding box\n",
    "output = lidar2camera(lidar_points, bbox)\n",
    "\n",
    "# Output tensor will have original LiDAR points concatenated with a validity flag\n",
    "print(output)"
   ]
  },
  {
   "cell_type": "code",
   "execution_count": 6,
   "metadata": {},
   "outputs": [
    {
     "data": {
      "text/plain": [
       "'2.0.1+cu117'"
      ]
     },
     "execution_count": 6,
     "metadata": {},
     "output_type": "execute_result"
    }
   ],
   "source": [
    "torch .__version__"
   ]
  },
  {
   "cell_type": "code",
   "execution_count": 7,
   "metadata": {},
   "outputs": [
    {
     "name": "stdout",
     "output_type": "stream",
     "text": [
      "points_camera_coord torch.Size([10, 3])\n",
      "depth torch.Size([10, 1])\n",
      "points_camera_coord torch.Size([10, 3])\n",
      "points_camera_2D_homogeneous torch.Size([10, 3])\n",
      "points_2D torch.Size([10, 2])\n",
      "bbox_mask torch.Size([10])\n",
      "validity torch.Size([10, 1])\n",
      "output torch.Size([10, 4])\n",
      "============= Diagnostic Run torch.onnx.export version 2.0.1+cu117 =============\n",
      "verbose: False, log level: Level.ERROR\n",
      "======================= 0 NONE 0 NOTE 0 WARNING 0 ERROR ========================\n",
      "\n"
     ]
    }
   ],
   "source": [
    "# Converting the model into an ONNX file\n",
    "lidar2camera.eval()\n",
    "dummy_input = torch.randn(10, 3)\n",
    "dummy_bbox = torch.tensor([100, 100, 200, 200])\n",
    "torch.onnx.export(lidar2camera, (dummy_input, dummy_bbox), \"lidar2camera.onnx\")"
   ]
  },
  {
   "cell_type": "code",
   "execution_count": null,
   "metadata": {},
   "outputs": [
    {
     "ename": "",
     "evalue": "",
     "output_type": "error",
     "traceback": [
      "\u001b[1;31mRunning cells with '/usr/bin/python3' requires the ipykernel package.\n",
      "\u001b[1;31mRun the following command to install 'ipykernel' into the Python environment. \n",
      "\u001b[1;31mCommand: '/usr/bin/python3 -m pip install ipykernel -U --user --force-reinstall'"
     ]
    }
   ],
   "source": [
    "# Converting it into a tensorrt engine\n",
    "import tensorrt as trt\n",
    "\n",
    "TRT_LOGGER = trt.Logger(trt.Logger.WARNING)\n",
    "\n"
   ]
  },
  {
   "cell_type": "code",
   "execution_count": null,
   "metadata": {},
   "outputs": [],
   "source": []
  }
 ],
 "metadata": {
  "kernelspec": {
   "display_name": "Python 3",
   "language": "python",
   "name": "python3"
  },
  "language_info": {
   "codemirror_mode": {
    "name": "ipython",
    "version": 3
   },
   "file_extension": ".py",
   "mimetype": "text/x-python",
   "name": "python",
   "nbconvert_exporter": "python",
   "pygments_lexer": "ipython3",
   "version": "3.8.17"
  },
  "orig_nbformat": 4
 },
 "nbformat": 4,
 "nbformat_minor": 2
}
