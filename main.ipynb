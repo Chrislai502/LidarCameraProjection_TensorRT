{
 "cells": [
  {
   "cell_type": "code",
   "execution_count": 18,
   "metadata": {},
   "outputs": [
    {
     "name": "stdout",
     "output_type": "stream",
     "text": [
      "The autoreload extension is already loaded. To reload it, use:\n",
      "  %reload_ext autoreload\n",
      "points_camera_coord torch.Size([10, 3])\n",
      "depth torch.Size([10, 1])\n",
      "points_camera_coord torch.Size([10, 3])\n",
      "points_camera_2D_homogeneous torch.Size([10, 3])\n",
      "points_2D torch.Size([10, 2])\n",
      "bbox_mask torch.Size([10])\n",
      "validity torch.Size([10, 1])\n",
      "output torch.Size([10, 4])\n",
      "tensor([[ 0.0000,  0.6540,  0.1936, -0.1680],\n",
      "        [ 0.0000, -1.2913,  0.5004, -0.7059],\n",
      "        [ 0.0000, -1.4826,  1.5106, -0.9138],\n",
      "        [ 0.0000, -0.8036,  0.1478,  0.8162],\n",
      "        [ 0.0000,  0.1453,  1.5858, -0.7811],\n",
      "        [ 0.0000,  0.0685,  0.1087, -0.3212],\n",
      "        [ 0.0000, -3.2532, -0.2142, -0.2903],\n",
      "        [ 0.0000,  1.2114, -0.2774,  1.2043],\n",
      "        [ 0.0000, -0.3102,  1.1345,  0.3695],\n",
      "        [ 0.0000,  0.0352, -1.4511, -2.1763]])\n"
     ]
    }
   ],
   "source": [
    "%load_ext autoreload\n",
    "%autoreload 2\n",
    "\n",
    "import torch\n",
    "\n",
    "from transformer import LiDAR2Camera  # Assuming the LiDAR2Camera class is in 'your_module.py'\n",
    "\n",
    "# Example data (replace these with your actual data)\n",
    "K = torch.tensor([[500, 0, 320], [0, 500, 240], [0, 0, 1]])  # Camera intrinsic matrix\n",
    "R = torch.eye(3)  # Rotation matrix (identity matrix as placeholder)\n",
    "T = torch.zeros(3, 1)  # Translation vector (zero vector as placeholder)\n",
    "width = 640  # Example width\n",
    "height = 480  # Example height\n",
    "lidar_points = torch.randn(10, 3)  # 10 random LiDAR   qpoints\n",
    "bbox = torch.tensor([100, 100, 200, 200])  # Example bounding box [x_min, y_min, x_max, y_max]\n",
    "\n",
    "# Create a LiDAR2Camera instance\n",
    "lidar2camera = LiDAR2Camera(K, R, T, width, height)\n",
    "\n",
    "# Transform the LiDAR points to camera coordinates and check bounding box\n",
    "output = lidar2camera(lidar_points, bbox)\n",
    "\n",
    "# Output tensor will have original LiDAR points concatenated with a validity flag\n",
    "print(output)"
   ]
  },
  {
   "cell_type": "code",
   "execution_count": null,
   "metadata": {},
   "outputs": [],
   "source": []
  }
 ],
 "metadata": {
  "kernelspec": {
   "display_name": "Python 3",
   "language": "python",
   "name": "python3"
  },
  "language_info": {
   "codemirror_mode": {
    "name": "ipython",
    "version": 3
   },
   "file_extension": ".py",
   "mimetype": "text/x-python",
   "name": "python",
   "nbconvert_exporter": "python",
   "pygments_lexer": "ipython3",
   "version": "3.8.18"
  },
  "orig_nbformat": 4
 },
 "nbformat": 4,
 "nbformat_minor": 2
}
